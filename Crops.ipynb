{
 "cells": [
  {
   "cell_type": "markdown",
   "id": "a9a84bf6",
   "metadata": {
    "extensions": {
     "jupyter_dashboards": {
      "version": 1,
      "views": {
       "grid_default": {},
       "report_default": {}
      }
     }
    }
   },
   "source": [
    "# Agriculture Production Optimization Engine\n",
    "\n",
    "```\n",
    "\n",
    "\n",
    "```\n",
    "\n",
    "<img src=\"https://api-com.lidea-seeds.com/uploads/2021/08/home_page_lidea.jpg\" alt=\"Drawing\" style=\"width: 400px;\"/>\n",
    "\n",
    "```\n",
    "\n",
    "\n",
    "```\n",
    "\n",
    "## `Problem Statement` \n",
    " Build a Predictive Model so as to suggest the most suitable Crops to grow based on the available Climatic and Soil Conditions.\n",
    "### `Goal` \n",
    "Achieve Precision Farming by Optimizing the Agriculture Production.\n",
    "\n",
    "### The Project is intended on Precision Farming.\n",
    "* We have to Optimize the Productivity.\n",
    "* By Understanding requirements of Climatic and Soil Conditions for Crops.\n",
    "* Helps us to Cope up with Weather Unpredictability. \n",
    "\n"
   ]
  },
  {
   "cell_type": "code",
   "execution_count": null,
   "id": "537333ed",
   "metadata": {
    "extensions": {
     "jupyter_dashboards": {
      "version": 1,
      "views": {
       "grid_default": {},
       "report_default": {}
      }
     }
    }
   },
   "outputs": [],
   "source": [
    "import numpy as np\n",
    "import pandas as pd\n",
    "import statistics as stat\n",
    "\n",
    "#for data visualisation\n",
    "import matplotlib.pyplot as plt\n",
    "import seaborn as sns\n",
    "\n",
    "#for interactivity \n",
    "from ipywidgets import interact"
   ]
  },
  {
   "cell_type": "code",
   "execution_count": null,
   "id": "4f56c443",
   "metadata": {
    "extensions": {
     "jupyter_dashboards": {
      "version": 1,
      "views": {
       "grid_default": {},
       "report_default": {}
      }
     }
    }
   },
   "outputs": [],
   "source": [
    "#lets read the dataset\n",
    "data = pd.read_csv('E:/Downloads/Data Science/Data/data.csv')"
   ]
  },
  {
   "cell_type": "code",
   "execution_count": null,
   "id": "93bf5236",
   "metadata": {
    "extensions": {
     "jupyter_dashboards": {
      "version": 1,
      "views": {
       "grid_default": {},
       "report_default": {}
      }
     }
    }
   },
   "outputs": [],
   "source": [
    "# lets check the shape of the dataset-----\n",
    "print(data.shape)"
   ]
  },
  {
   "cell_type": "code",
   "execution_count": null,
   "id": "8e4a51e7",
   "metadata": {
    "extensions": {
     "jupyter_dashboards": {
      "version": 1,
      "views": {
       "grid_default": {},
       "report_default": {}
      }
     }
    }
   },
   "outputs": [],
   "source": [
    "# lets check the head of dataset\n",
    "data.head()"
   ]
  },
  {
   "cell_type": "code",
   "execution_count": null,
   "id": "1415396d",
   "metadata": {
    "extensions": {
     "jupyter_dashboards": {
      "version": 1,
      "views": {
       "grid_default": {},
       "report_default": {}
      }
     }
    }
   },
   "outputs": [],
   "source": [
    "data.isnull().sum()"
   ]
  },
  {
   "cell_type": "code",
   "execution_count": null,
   "id": "276b4c23",
   "metadata": {
    "extensions": {
     "jupyter_dashboards": {
      "version": 1,
      "views": {
       "grid_default": {},
       "report_default": {}
      }
     }
    }
   },
   "outputs": [],
   "source": [
    "# lets check how many different crops are present in this dataset\n",
    "a = data['label'].unique()\n",
    "len(a)"
   ]
  },
  {
   "cell_type": "code",
   "execution_count": null,
   "id": "5f987c50",
   "metadata": {
    "extensions": {
     "jupyter_dashboards": {
      "version": 1,
      "views": {
       "grid_default": {},
       "report_default": {}
      }
     }
    }
   },
   "outputs": [],
   "source": [
    "# lets check the summary of all the crops\n",
    "print('Average ratio of Nitrogen in the soil: {0:.2f}'.format(data['N'].mean()))\n",
    "print('Average ratio of phosphorous in the soil: {0:.2f}'.format(data['P'].mean()))\n",
    "print('Average ratio of potassium in the soil: {0:.2f}'.format(data['K'].mean()))\n",
    "print('Average ratio oftemprature in celsius: {0:.2f}'.format(data['temperature'].mean()))\n",
    "print('Average Relative humidity in %: {0:.2f}'.format(data['humidity'].mean()))\n",
    "print('Average Ph value of the soil: {0:.2f}'.format(data['ph'].mean()))\n",
    "print('Average Rainfall in mm: {0:.2f}'.format(data['rainfall'].mean()))"
   ]
  },
  {
   "cell_type": "code",
   "execution_count": null,
   "id": "f07eac66",
   "metadata": {
    "extensions": {
     "jupyter_dashboards": {
      "version": 1,
      "views": {
       "grid_default": {},
       "report_default": {}
      }
     }
    }
   },
   "outputs": [],
   "source": [
    "crops = list(data['label'].value_counts().index)\n",
    "print(crops)"
   ]
  },
  {
   "cell_type": "code",
   "execution_count": null,
   "id": "4aa019a5",
   "metadata": {
    "extensions": {
     "jupyter_dashboards": {
      "version": 1,
      "views": {
       "grid_default": {},
       "report_default": {}
      }
     }
    }
   },
   "outputs": [],
   "source": [
    "# lets check the summary for all the crops\n",
    "\n",
    "@interact\n",
    "def summary(crops = list(data['label'].value_counts().index)):\n",
    "    x = data[data['label'] == crops]\n",
    "    print(\"------------------------------------\")\n",
    "    print('statistics for Nitrogen')\n",
    "    print(\"Minimum Nitrogen required :\", x['N'].min())\n",
    "    print(\"Average Nitrogen required :\", x['N'].mean())\n",
    "    print(\"Maximum Nitrogen which can be tolerated :\", x['N'].max())\n",
    "    print('------------------------------------')\n",
    "    print('statistics for Phosphorous')\n",
    "    print(\"Minimum Phosphorous required :\", x['P'].min())\n",
    "    print(\"Average Phosphorous required :\", x['P'].mean())\n",
    "    print(\"Maximum Phosphorous which can be tolerated :\", x['P'].max())\n",
    "    print('------------------------------------')\n",
    "    print('statistics for Potassium')\n",
    "    print(\"Minimum Potassium required :\", x['K'].min())\n",
    "    print(\"Average Potassium required :\", x['K'].mean())\n",
    "    print(\"Maximum Potassium which can be tolerated :\", x['K'].max())\n",
    "    print('------------------------------------')\n",
    "    print('statistics for Temperature')\n",
    "    print(\"Minimum Temperature required : {0:.2f} \".format(x['temperature'].min()))\n",
    "    print(\"Average Temperature required : {0:.2f} \".format(x['temperature'].mean()))\n",
    "    print(\"Maximum Temperature which can be tolerated : {0:.2f} \".format(x['temperature'].max()))\n",
    "    print('------------------------------------')\n",
    "    print('statistics for humidity')\n",
    "    print(\"Minimum humidity required : {0:.2f} \".format(x['humidity'].min()))\n",
    "    print(\"Average humidity required : {0:.2f} \".format(x['humidity'].mean()))\n",
    "    print(\"Maximum humidity which can be tolerated : {0:.2f} \".format(x['humidity'].max()))\n",
    "    print('------------------------------------')\n",
    "    print('statistics for Rainfall')\n",
    "    print(\"Minimum Rainfall required : {0:.2f} \".format(x['rainfall'].min()))\n",
    "    print(\"Average Rainfall required : {0:.2f} \".format(x['rainfall'].mean()))\n",
    "    print(\"Maximum Rainfall which can be tolerated : {0:.2f} \".format(x['rainfall'].max()))"
   ]
  },
  {
   "cell_type": "code",
   "execution_count": null,
   "id": "62ddb582",
   "metadata": {
    "extensions": {
     "jupyter_dashboards": {
      "version": 1,
      "views": {
       "grid_default": {},
       "report_default": {}
      }
     }
    }
   },
   "outputs": [],
   "source": [
    "#lets compare the average requirement of each crops with average conditions\n",
    "\n",
    "@interact\n",
    "def compare(conditions = ['N','P','K','temperature','ph','humidity','rainfall']):\n",
    "    a = data['label'].unique() \n",
    "    print('Average value for', conditions,\"is {0:2f}\".format(data[conditions].mean()))\n",
    "    print('----------------------------------------------')\n",
    "    for i in range(0,len(a)):\n",
    "        print( a[i], ': {0:.2f}'.format(data[(data['label']== a[i])][conditions].mean()))\n",
    "                   "
   ]
  },
  {
   "cell_type": "code",
   "execution_count": null,
   "id": "6fba7127",
   "metadata": {
    "extensions": {
     "jupyter_dashboards": {
      "version": 1,
      "views": {
       "grid_default": {},
       "report_default": {}
      }
     }
    }
   },
   "outputs": [],
   "source": [
    "#lets make this function more intutive\n",
    "\n",
    "@interact\n",
    "def compare(conditions = ['N','P','K','temperature','ph','humidity','rainfall']):\n",
    "    print('Crops which require greater than average', conditions,'\\n')\n",
    "    print(data[data[conditions] > data[conditions].mean()]['label'].unique())\n",
    "    print(\"-------------------------------------\")\n",
    "    print(\"Crops which require less than average \", conditions,'\\n')\n",
    "    print(data[data[conditions] <= data[conditions].mean()]['label'].unique())\n",
    "    "
   ]
  },
  {
   "cell_type": "code",
   "execution_count": null,
   "id": "be2906bb",
   "metadata": {
    "extensions": {
     "jupyter_dashboards": {
      "version": 1,
      "views": {
       "grid_default": {},
       "report_default": {}
      }
     }
    }
   },
   "outputs": [],
   "source": [
    "#lets find interesting facts\n",
    "print(\"Some Interesting Patterns\")\n",
    "print(\"--------------------------------\")\n",
    "print(\"Crops which require very high ration of Nitrogen Content in Soil:\",data[data['N']>120]['label'].unique())\n",
    "print(\"Crops which require very high ration of Phosphorous Content in Soil:\",data[data['P']>120]['label'].unique())\n",
    "print(\"Crops which require very high ration of Pottasium Content in Soil:\",data[data['K']>120]['label'].unique())\n",
    "print(\"Crops which require very high Rainfall:\",data[data['rainfall']>200]['label'].unique())\n",
    "print(\"Crops which require very low Temperature:\",data[data['temperature']<10]['label'].unique())\n",
    "print(\"Crops which require very high Temperature:\",data[data['temperature']>40]['label'].unique())\n",
    "print(\"Crops which require very low Humididty:\",data[data['humidity']<20]['label'].unique())\n",
    "print(\"Crops which require very low PH:\",data[data['ph']<4]['label'].unique())\n",
    "print(\"Crops which require very high PH:\",data[data['ph']>9]['label'].unique())"
   ]
  },
  {
   "cell_type": "code",
   "execution_count": null,
   "id": "2b88d13e",
   "metadata": {
    "extensions": {
     "jupyter_dashboards": {
      "version": 1,
      "views": {
       "grid_default": {},
       "report_default": {}
      }
     }
    }
   },
   "outputs": [],
   "source": [
    "#lets understand which crop can only be grown in specific time of the year\n",
    "print(\"Summer Crops:\")\n",
    "print(data[(data['temperature']>30) & (data['humidity']>50)]['label'].unique())\n",
    "print(\"------------------------------------------------------\")\n",
    "print(\"Winter Crops\")\n",
    "print(data[(data['temperature']<20) & (data['humidity']>30)]['label'].unique())\n",
    "print(\"------------------------------------------------------\")\n",
    "print(\"Rainy Crops\")\n",
    "print(data[(data['rainfall']>200) & (data['humidity']>30)]['label'].unique())"
   ]
  },
  {
   "cell_type": "code",
   "execution_count": null,
   "id": "5eb905b0",
   "metadata": {
    "extensions": {
     "jupyter_dashboards": {
      "version": 1,
      "views": {
       "grid_default": {},
       "report_default": {}
      }
     }
    }
   },
   "outputs": [],
   "source": [
    "from sklearn.cluster import KMeans\n",
    "\n",
    "#removing the labels column\n",
    "x=data.drop(['label'],axis=1)\n",
    "\n",
    "#selecting all the values of data\n",
    "x=x.values\n",
    "\n",
    "#checking the shape\n",
    "print(x.shape)\n"
   ]
  },
  {
   "cell_type": "code",
   "execution_count": null,
   "id": "bacf0140",
   "metadata": {
    "extensions": {
     "jupyter_dashboards": {
      "version": 1,
      "views": {
       "grid_default": {},
       "report_default": {}
      }
     }
    }
   },
   "outputs": [],
   "source": [
    "#lets determine the Optimum Numbers of Clusters within the Dataset\n",
    "\n",
    "plt.rcParams['figure.figsize'] = (10,4)\n",
    "\n",
    "wcss=[]\n",
    "for i in range(1,11):\n",
    "    km=KMeans(n_clusters = i, init = 'k-means++', max_iter=300, n_init = 10, random_state = 0 )\n",
    "    km.fit(x)\n",
    "    wcss.append(km.inertia_)\n",
    "\n",
    "#lets plot the results\n",
    "plt.plot(range(1,11),wcss)\n",
    "plt.title('The Elbow Method',fontsize = 20)\n",
    "plt.xlabel('No. of Clusters')\n",
    "plt.ylabel('wcss')\n",
    "plt.show()"
   ]
  },
  {
   "cell_type": "code",
   "execution_count": null,
   "id": "a61aab43",
   "metadata": {
    "extensions": {
     "jupyter_dashboards": {
      "version": 1,
      "views": {
       "grid_default": {},
       "report_default": {}
      }
     }
    }
   },
   "outputs": [],
   "source": [
    "#lets implement k-means algorithm to perform Clustering analysis\n",
    "km = KMeans(n_clusters = 4, init = 'k-means++', max_iter = 300, n_init = 10, random_state = 0)\n",
    "y_means = km.fit_predict(x)\n",
    "\n",
    "\n",
    "#lets find out the Results\n",
    "a=data['label']\n",
    "y_means = pd.DataFrame(y_means)\n",
    "z = pd.concat([y_means, a], axis=1)\n",
    "z = z.rename(columns = {0: 'cluster'})\n",
    "\n",
    "\n",
    "#lets check the Clusters of each crops\n",
    "print(\"Lets check the Results after applying the K-Means Clustering Analysis \\n\")\n",
    "print(\"Crops in First Cluster:\",z[z['cluster'] == 0]['label'].unique())\n",
    "print(\"------------------------------------------------------\")\n",
    "print(\"Crops in Second Cluster:\",z[z['cluster'] == 1]['label'].unique())\n",
    "print(\"------------------------------------------------------\")\n",
    "print(\"Crops in Third Cluster:\",z[z['cluster'] == 2]['label'].unique())\n",
    "print(\"------------------------------------------------------\")\n",
    "print(\"Crops in Fourth Cluster:\",z[z['cluster'] == 3]['label'].unique())"
   ]
  },
  {
   "cell_type": "code",
   "execution_count": null,
   "id": "efa80dc0",
   "metadata": {
    "extensions": {
     "jupyter_dashboards": {
      "version": 1,
      "views": {
       "grid_default": {},
       "report_default": {}
      }
     }
    }
   },
   "outputs": [],
   "source": [
    "#lets split the dataset for predictive Modelling\n",
    "y=data['label']\n",
    "x=data.drop(['label'], axis = 1)\n",
    "\n",
    "print(\"shape of x:\", x.shape)\n",
    "print(\"shape of y:\", y.shape)"
   ]
  },
  {
   "cell_type": "code",
   "execution_count": null,
   "id": "92795257",
   "metadata": {
    "extensions": {
     "jupyter_dashboards": {
      "version": 1,
      "views": {
       "grid_default": {},
       "report_default": {}
      }
     }
    }
   },
   "outputs": [],
   "source": [
    "#lets create a training and Testing Sets for Validation of Results\n",
    "from sklearn.model_selection import train_test_split\n",
    "\n",
    "x_train, x_test, y_train, y_test = train_test_split(x,y,test_size = 0.2, random_state = 0)\n",
    "\n",
    "print(\"The shape of x train:\", x_train.shape)\n",
    "print(\"The shape of x train:\", x_test.shape)\n",
    "print(\"The shape of y train:\", y_train.shape)\n",
    "print(\"The shape of y train:\", y_test.shape)"
   ]
  },
  {
   "cell_type": "code",
   "execution_count": null,
   "id": "dda5cb8b",
   "metadata": {
    "extensions": {
     "jupyter_dashboards": {
      "version": 1,
      "views": {
       "grid_default": {},
       "report_default": {}
      }
     }
    }
   },
   "outputs": [],
   "source": [
    "#lets create a Predictive Model\n",
    "from sklearn.linear_model import LogisticRegression\n",
    "\n",
    "model = LogisticRegression()\n",
    "model.fit(x_train, y_train)\n",
    "y_pred = model.predict(x_test)"
   ]
  },
  {
   "cell_type": "code",
   "execution_count": null,
   "id": "f3c3ecf1",
   "metadata": {
    "extensions": {
     "jupyter_dashboards": {
      "version": 1,
      "views": {
       "grid_default": {},
       "report_default": {}
      }
     }
    }
   },
   "outputs": [],
   "source": [
    "#lets evaluate the Model Performance\n",
    "from sklearn.metrics import confusion_matrix\n",
    "\n",
    "#lets print the Confusion matrix first\n",
    "plt.rcParams['figure.figsize'] = (10,10)\n",
    "cm = confusion_matrix(y_test, y_pred)\n",
    "sns.heatmap(cm,annot = True, cmap = 'Wistia')\n",
    "plt.title('Confusion Matrix for Logistic Regression', fontsize = 15)\n",
    "plt.show()"
   ]
  },
  {
   "cell_type": "code",
   "execution_count": null,
   "id": "95493224",
   "metadata": {
    "extensions": {
     "jupyter_dashboards": {
      "version": 1,
      "views": {
       "grid_default": {},
       "report_default": {}
      }
     }
    }
   },
   "outputs": [],
   "source": [
    "#lets print the classification Report size\n",
    "from sklearn import metrics\n",
    "cr = metrics.classification_report(y_test, y_pred)\n",
    "print(cr)"
   ]
  },
  {
   "cell_type": "code",
   "execution_count": null,
   "id": "efd7eca2",
   "metadata": {
    "extensions": {
     "jupyter_dashboards": {
      "version": 1,
      "views": {
       "grid_default": {},
       "report_default": {}
      }
     }
    }
   },
   "outputs": [],
   "source": [
    "#lets check the head of the Dataset\n",
    "data.head()"
   ]
  },
  {
   "cell_type": "code",
   "execution_count": null,
   "id": "fe5156a9",
   "metadata": {
    "extensions": {
     "jupyter_dashboards": {
      "version": 1,
      "views": {
       "grid_default": {},
       "report_default": {}
      }
     }
    }
   },
   "outputs": [],
   "source": [
    "\n",
    "print(\"Enter the Nitrogen value present in the atmosphere: \")\n",
    "N = input() \n",
    "print(\"Enter the Phophorus value present in the atmosphere: \")\n",
    "P = input()\n",
    "print(\"Enter the Pottassium value present in the atmosphere: \")\n",
    "K = input()\n",
    "print(\"Enter the Temperature: \")\n",
    "Temperature = input()\n",
    "print(\"Enter the Humidity present in the atmosphere: \")\n",
    "humidity = input()\n",
    "print(\"Enter the ph value: \")\n",
    "ph = input()\n",
    "print(\"Rainfall: \")\n",
    "rainfall = input()\n",
    "\n",
    "prediction = model.predict((np.array([[N,\n",
    "                                       P,\n",
    "                                       K,\n",
    "                                       Temperature,\n",
    "                                       humidity,\n",
    "                                       ph,\n",
    "                                       rainfall]])))\n",
    "print(\"The best suitable Crop for Given Climatic Condition is: \", prediction)"
   ]
  }
 ],
 "metadata": {
  "extensions": {
   "jupyter_dashboards": {
    "activeView": "grid_default",
    "version": 1,
    "views": {
     "grid_default": {
      "cellMargin": 10,
      "defaultCellHeight": 20,
      "maxColumns": 12,
      "name": "grid",
      "type": "grid"
     },
     "report_default": {
      "name": "report",
      "type": "report"
     }
    }
   }
  },
  "kernelspec": {
   "display_name": "Python 3",
   "language": "python",
   "name": "python3"
  },
  "language_info": {
   "codemirror_mode": {
    "name": "ipython",
    "version": 3
   },
   "file_extension": ".py",
   "mimetype": "text/x-python",
   "name": "python",
   "nbconvert_exporter": "python",
   "pygments_lexer": "ipython3",
   "version": "3.8.8"
  }
 },
 "nbformat": 4,
 "nbformat_minor": 5
}
